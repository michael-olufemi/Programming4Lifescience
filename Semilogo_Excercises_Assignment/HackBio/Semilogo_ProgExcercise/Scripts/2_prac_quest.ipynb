{
 "cells": [
  {
   "cell_type": "markdown",
   "id": "specified-oracle",
   "metadata": {},
   "source": [
    "# Script that downloads  sequences from the NCBI using a file containing accession numbers"
   ]
  },
  {
   "cell_type": "markdown",
   "id": "otherwise-directive",
   "metadata": {},
   "source": [
    "Import libraries."
   ]
  },
  {
   "cell_type": "code",
   "execution_count": null,
   "id": "received-distinction",
   "metadata": {
    "tags": []
   },
   "outputs": [],
   "source": [
    "import urllib.request\n",
    "from Bio import Entrez"
   ]
  },
  {
   "cell_type": "markdown",
   "id": "photographic-indonesian",
   "metadata": {},
   "source": [
    "Download accession numbers from google drive. url is changed to 'https://drive.google.com/uc?id=FileID' form"
   ]
  },
  {
   "cell_type": "markdown",
   "id": "rising-margin",
   "metadata": {},
   "source": [
    "url = 'https://drive.google.com/uc?id=15EWT9Ocj1F3FwOeJYNrzsF40urYoVjN2'\n",
    "destination_filename = \"../Raw_data/Accessionnos.txt\"\n",
    "urllib.request.urlretrieve(url, destination_filename)"
   ]
  },
  {
   "cell_type": "markdown",
   "id": "later-patrick",
   "metadata": {
    "tags": []
   },
   "source": [
    "Open accession number file and file to write sequences"
   ]
  },
  {
   "cell_type": "code",
   "execution_count": null,
   "id": "included-cream",
   "metadata": {
    "tags": []
   },
   "outputs": [],
   "source": [
    "file_accession = open(\"../Raw_data/Accessionnos.txt\", 'r')\n",
    "file_sequence = open(\"../Derived_data/Results/2_sequences.fasta\", 'w')"
   ]
  },
  {
   "cell_type": "markdown",
   "id": "excessive-trail",
   "metadata": {
    "jupyter": {
     "source_hidden": true
    },
    "tags": []
   },
   "source": [
    "Read accession file to line variable and use line in a loop to download sequence and write sequence to output file"
   ]
  },
  {
   "cell_type": "code",
   "execution_count": null,
   "id": "hazardous-helmet",
   "metadata": {},
   "outputs": [],
   "source": [
    "for line in file_accession:\n",
    "    #create an entrez handle to access ncbi databasess\n",
    "    handle = Entrez.efetch(db='nucleotide',id=line, rettype = 'fasta', retmode= 'text', email = 'semilogosonaike@gmail.com')\n",
    "    #print sequence\n",
    "    file_sequence.write(handle.read())\n",
    "    #file_sequence.write(handle)"
   ]
  },
  {
   "cell_type": "code",
   "execution_count": null,
   "id": "equivalent-grant",
   "metadata": {},
   "outputs": [],
   "source": []
  },
  {
   "cell_type": "code",
   "execution_count": null,
   "id": "ahead-closer",
   "metadata": {},
   "outputs": [],
   "source": []
  }
 ],
 "metadata": {
  "kernelspec": {
   "display_name": "Python 3",
   "language": "python",
   "name": "python3"
  },
  "language_info": {
   "codemirror_mode": {
    "name": "ipython",
    "version": 3
   },
   "file_extension": ".py",
   "mimetype": "text/x-python",
   "name": "python",
   "nbconvert_exporter": "python",
   "pygments_lexer": "ipython3",
   "version": "3.9.1"
  }
 },
 "nbformat": 4,
 "nbformat_minor": 5
}
