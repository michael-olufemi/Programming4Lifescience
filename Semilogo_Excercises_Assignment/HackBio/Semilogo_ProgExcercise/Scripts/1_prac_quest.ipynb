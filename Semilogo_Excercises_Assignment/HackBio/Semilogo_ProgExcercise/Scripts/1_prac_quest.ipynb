{
 "cells": [
  {
   "cell_type": "markdown",
   "id": "convertible-occasions",
   "metadata": {},
   "source": [
    "Download raw data from google drive. url is changed to 'https://drive.google.com/uc?id=FileID' form"
   ]
  },
  {
   "cell_type": "code",
   "execution_count": null,
   "id": "yellow-roman",
   "metadata": {
    "tags": []
   },
   "outputs": [],
   "source": [
    "import urllib.request\n",
    "\n",
    "url = 'https://drive.google.com/uc?id=1hpci6E4qnyVyKhRvwRpVyy6DLJzT_EOl'\n",
    "destination_filename = \"../Raw_data/SNPsOriginal.txt\"\n",
    "urllib.request.urlretrieve(url, destination_filename)"
   ]
  },
  {
   "cell_type": "markdown",
   "id": "tracked-baseball",
   "metadata": {
    "tags": []
   },
   "source": [
    "Open raw data file and output file for extracted SNPs"
   ]
  },
  {
   "cell_type": "code",
   "execution_count": 205,
   "id": "helpful-unknown",
   "metadata": {
    "tags": []
   },
   "outputs": [],
   "source": [
    "snp_file = open(\"../Raw_data/SNPsOriginal.txt\", 'r')\n",
    "cln_snp_file = open(\"../Derived_data/Results/1_thousand_snp.fasta\", 'w')"
   ]
  },
  {
   "cell_type": "markdown",
   "id": "smaller-optimization",
   "metadata": {},
   "source": [
    "Read sequence"
   ]
  },
  {
   "cell_type": "code",
   "execution_count": 206,
   "id": "suspended-belief",
   "metadata": {},
   "outputs": [],
   "source": [
    "main_seq = snp_file.read()"
   ]
  },
  {
   "cell_type": "markdown",
   "id": "confused-taiwan",
   "metadata": {},
   "source": [
    "Reverse sequence using the str_reverse() function so as to read last 1000 SNPs, with the chromosome IDs and whitespaces from the top"
   ]
  },
  {
   "cell_type": "code",
   "execution_count": 207,
   "id": "meaningful-phenomenon",
   "metadata": {},
   "outputs": [],
   "source": [
    "rev_seq = str_reverse(main_seq)"
   ]
  },
  {
   "cell_type": "markdown",
   "id": "differential-astronomy",
   "metadata": {},
   "source": [
    "Declare variables and count SNPs while excluding other non-SNP characters"
   ]
  },
  {
   "cell_type": "code",
   "execution_count": 208,
   "id": "functioning-compact",
   "metadata": {},
   "outputs": [],
   "source": [
    "form_seq = \"\"; count = 1000; i = 0; ncltides = ['G', 'C', 'A', 'T', 'N'] \n",
    "\n",
    "for ch in rev_seq:\n",
    "    \n",
    "    if ((i < count) & (ch in ncltides)):\n",
    "        form_seq += ch\n",
    "        i += 1\n",
    "        if (ch == 'h'):\n",
    "            i -= 1\n",
    "    elif (i < count):\n",
    "        form_seq += ch\n",
    "    else:\n",
    "        break"
   ]
  },
  {
   "cell_type": "markdown",
   "id": "generic-vietnamese",
   "metadata": {},
   "source": [
    "Write counted SNPs into ouput file and reverse and close"
   ]
  },
  {
   "cell_type": "code",
   "execution_count": 209,
   "id": "million-cooperation",
   "metadata": {
    "tags": []
   },
   "outputs": [],
   "source": [
    "cln_snp_file.write(str_reverse(form_seq))\n",
    "cln_snp_file.close()"
   ]
  },
  {
   "cell_type": "markdown",
   "id": "honey-python",
   "metadata": {},
   "source": [
    "str_reverse function to reverse a string"
   ]
  },
  {
   "cell_type": "code",
   "execution_count": 210,
   "id": "headed-department",
   "metadata": {},
   "outputs": [],
   "source": [
    "def str_reverse(seq):\n",
    "    new_seq = \"\"\n",
    "    for i in reversed(seq):\n",
    "        new_seq += i\n",
    "    \n",
    "    return new_seq"
   ]
  },
  {
   "cell_type": "markdown",
   "id": "inclusive-tobago",
   "metadata": {},
   "source": [
    "# **This section converts the raw SNP VFC format into Fasta and writes the Fasta to output"
   ]
  },
  {
   "cell_type": "markdown",
   "id": "chemical-jungle",
   "metadata": {},
   "source": [
    "Open a new file, snp_fasta to store fasta data. snp_fasts"
   ]
  },
  {
   "cell_type": "code",
   "execution_count": 211,
   "id": "related-commission",
   "metadata": {
    "tags": []
   },
   "outputs": [],
   "source": [
    "fasta_snp = open(\"../Derived_data/Results/fasta_snp.txt\", 'w')"
   ]
  },
  {
   "cell_type": "markdown",
   "id": "plastic-publicity",
   "metadata": {},
   "source": [
    "use file.readline() to read raw data as lists for each line"
   ]
  },
  {
   "cell_type": "code",
   "execution_count": 212,
   "id": "differential-channels",
   "metadata": {},
   "outputs": [],
   "source": [
    "#take file cursor to beginning of file to read from the beginning\n",
    "snp_file.seek(0)\n",
    "\n",
    "#Read out first line as it is not needed in a fasta file\n",
    "fmain_seq = snp_file.readline()"
   ]
  },
  {
   "cell_type": "code",
   "execution_count": 213,
   "id": "married-protection",
   "metadata": {},
   "outputs": [],
   "source": [
    "#Read the whole sequence into an list of strings\n",
    "fmain_seq = snp_file.readlines()\n",
    "\n",
    "for line in fmain_seq:\n",
    "    #get index of first tab in each line so as to slice out the ID\n",
    "    slice_pnt = line.find('\\t')\n",
    "    #add the > char to ID and new line chars to convert to fasta. Also, remove tabs from the line with replace()\n",
    "    fform_seq = '>'+ line[:slice_pnt] + '\\n' + line[slice_pnt:].replace('\\t','') + '\\n'\n",
    "    #write result to the file\n",
    "    fasta_snp.write(fform_seq)\n"
   ]
  },
  {
   "cell_type": "markdown",
   "id": "bulgarian-graphic",
   "metadata": {},
   "source": [
    "Close file"
   ]
  },
  {
   "cell_type": "code",
   "execution_count": 214,
   "id": "private-northern",
   "metadata": {},
   "outputs": [],
   "source": [
    "fasta_snp.close()\n",
    "snp_file.close()"
   ]
  }
 ],
 "metadata": {
  "kernelspec": {
   "display_name": "Python 3",
   "language": "python",
   "name": "python3"
  },
  "language_info": {
   "codemirror_mode": {
    "name": "ipython",
    "version": 3
   },
   "file_extension": ".py",
   "mimetype": "text/x-python",
   "name": "python",
   "nbconvert_exporter": "python",
   "pygments_lexer": "ipython3",
   "version": "3.9.1"
  }
 },
 "nbformat": 4,
 "nbformat_minor": 5
}
