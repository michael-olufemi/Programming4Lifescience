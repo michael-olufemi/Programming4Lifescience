{
 "cells": [
  {
   "cell_type": "markdown",
   "id": "registered-circus",
   "metadata": {},
   "source": [
    "# Script to calculate area of triangle"
   ]
  },
  {
   "cell_type": "markdown",
   "id": "assigned-enlargement",
   "metadata": {},
   "source": [
    "intialise variables to accept base, height length of the triangle"
   ]
  },
  {
   "cell_type": "code",
   "execution_count": 8,
   "id": "third-morgan",
   "metadata": {},
   "outputs": [
    {
     "name": "stdin",
     "output_type": "stream",
     "text": [
      "Enter the base length of the triangle in cm 10\n",
      "Enter the height length of the triangle in cm 10\n"
     ]
    },
    {
     "name": "stdout",
     "output_type": "stream",
     "text": [
      "The area of the triangle is 50.000 cm\n"
     ]
    },
    {
     "data": {
      "text/plain": [
       "50.0"
      ]
     },
     "execution_count": 8,
     "metadata": {},
     "output_type": "execute_result"
    }
   ],
   "source": [
    "base = float(input(\"Enter the base length of the triangle in cm\"))\n",
    "height = float(input(\"Enter the height length of the triangle in cm\"))\n",
    "\n",
    "#call triangle_area_calc() function\n",
    "triangle_area_calc(base, height)"
   ]
  },
  {
   "cell_type": "markdown",
   "id": "small-serum",
   "metadata": {},
   "source": [
    "Define and intitalise function to calculate area"
   ]
  },
  {
   "cell_type": "code",
   "execution_count": 9,
   "id": "figured-necessity",
   "metadata": {},
   "outputs": [],
   "source": [
    "def triangle_area_calc(f_base, f_height):\n",
    "    area = 0.5 * base * height\n",
    "    print (\"The area of the triangle is %.1f cm\" %area)\n",
    "    return area"
   ]
  },
  {
   "cell_type": "code",
   "execution_count": null,
   "id": "advanced-ground",
   "metadata": {},
   "outputs": [],
   "source": []
  },
  {
   "cell_type": "code",
   "execution_count": null,
   "id": "selective-thermal",
   "metadata": {},
   "outputs": [],
   "source": []
  }
 ],
 "metadata": {
  "kernelspec": {
   "display_name": "Python 3",
   "language": "python",
   "name": "python3"
  },
  "language_info": {
   "codemirror_mode": {
    "name": "ipython",
    "version": 3
   },
   "file_extension": ".py",
   "mimetype": "text/x-python",
   "name": "python",
   "nbconvert_exporter": "python",
   "pygments_lexer": "ipython3",
   "version": "3.9.1"
  }
 },
 "nbformat": 4,
 "nbformat_minor": 5
}
