{
 "cells": [
  {
   "cell_type": "code",
   "execution_count": 33,
   "id": "prime-permission",
   "metadata": {
    "tags": []
   },
   "outputs": [],
   "source": [
    "# Script to calculate total sale, commmission and gross salary"
   ]
  },
  {
   "cell_type": "markdown",
   "id": "composite-intelligence",
   "metadata": {
    "tags": []
   },
   "source": [
    "Initialise variables. Divide commissions by 100 as they are percentages"
   ]
  },
  {
   "cell_type": "code",
   "execution_count": 34,
   "id": "exterior-intranet",
   "metadata": {},
   "outputs": [],
   "source": [
    "no_of_salesmen = 50; comm_paste = 0.1; comm_powder = 0.2; retainer = 25000"
   ]
  },
  {
   "cell_type": "markdown",
   "id": "acceptable-function",
   "metadata": {},
   "source": [
    "Initialise variables to receive input for paste, powder price and number of paste and powder sold"
   ]
  },
  {
   "cell_type": "code",
   "execution_count": 35,
   "id": "serial-parent",
   "metadata": {},
   "outputs": [
    {
     "name": "stdin",
     "output_type": "stream",
     "text": [
      "Enter the paste price 100\n",
      "Enter the powder price 200\n",
      "Enter the number of paste sold 10\n",
      "Enter the number of powder sold 20\n"
     ]
    }
   ],
   "source": [
    "paste_price = int(input(\"Enter the paste price\"))\n",
    "powder_price = int(input(\"Enter the powder price\"))\n",
    "paste_number = int(input(\"Enter the number of paste sold\"))\n",
    "powder_number = int(input(\"Enter the number of powder sold\"))"
   ]
  },
  {
   "cell_type": "markdown",
   "id": "spanish-singing",
   "metadata": {},
   "source": [
    "Call wages function"
   ]
  },
  {
   "cell_type": "code",
   "execution_count": 36,
   "id": "absent-cigarette",
   "metadata": {},
   "outputs": [
    {
     "name": "stdout",
     "output_type": "stream",
     "text": [
      "The total sale for the salesman is 5000KSh.\n",
      "The total commission is 900KSh.\n",
      "The total gross salary is 25900KSh\n"
     ]
    }
   ],
   "source": [
    "wages(comm_paste, comm_powder, retainer, paste_price, powder_price, paste_number, powder_number)"
   ]
  },
  {
   "cell_type": "markdown",
   "id": "framed-journalism",
   "metadata": {},
   "source": [
    "wages() function to calculate total sale, commission and gross salary"
   ]
  },
  {
   "cell_type": "code",
   "execution_count": 37,
   "id": "atomic-italic",
   "metadata": {},
   "outputs": [],
   "source": [
    "def wages(f_comm_paste, f_comm_powder, f_retainer, f_paste_p, f_powder_p, f_paste_n, f_powder_n):\n",
    "    #compute total sale = commission on each item*number of item sold + retainer\n",
    "    total_sale = (f_paste_n*f_paste_p) + (f_powder_n*f_powder_p)\n",
    "    total_comm = (f_comm_paste*f_paste_n*f_paste_p) + (f_comm_powder*f_powder_n*f_powder_p)\n",
    "    total_gross_salary = total_comm + f_retainer\n",
    "    \n",
    "    #print result\n",
    "    print(\"The total sale for the salesman is %d KSh.\\nThe total commission is %d KSh.\\nThe total gross salary is %d KSh\" \\\n",
    "          % (total_sale, total_comm, total_gross_salary))"
   ]
  }
 ],
 "metadata": {
  "kernelspec": {
   "display_name": "Python 3",
   "language": "python",
   "name": "python3"
  },
  "language_info": {
   "codemirror_mode": {
    "name": "ipython",
    "version": 3
   },
   "file_extension": ".py",
   "mimetype": "text/x-python",
   "name": "python",
   "nbconvert_exporter": "python",
   "pygments_lexer": "ipython3",
   "version": "3.9.1"
  }
 },
 "nbformat": 4,
 "nbformat_minor": 5
}
