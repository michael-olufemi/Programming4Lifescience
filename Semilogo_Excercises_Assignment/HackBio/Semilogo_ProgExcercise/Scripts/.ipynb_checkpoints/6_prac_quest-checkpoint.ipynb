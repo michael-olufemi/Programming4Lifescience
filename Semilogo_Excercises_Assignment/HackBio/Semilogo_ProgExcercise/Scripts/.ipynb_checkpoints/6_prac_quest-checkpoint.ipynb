{
 "cells": [
  {
   "cell_type": "markdown",
   "id": "european-project",
   "metadata": {},
   "source": [
    "# Script to capture employee data and compute gross salary"
   ]
  },
  {
   "cell_type": "markdown",
   "id": "southeast-helen",
   "metadata": {},
   "source": [
    "Prompt for the number of employees which will ensure each employee's salary is calculated from a loop"
   ]
  },
  {
   "cell_type": "code",
   "execution_count": 2,
   "id": "associate-silver",
   "metadata": {},
   "outputs": [
    {
     "name": "stdin",
     "output_type": "stream",
     "text": [
      "Enter the number of employees 4\n"
     ]
    }
   ],
   "source": [
    "num_employees = int(input(\"Enter the number of employees\"))"
   ]
  },
  {
   "cell_type": "markdown",
   "id": "chemical-sleeve",
   "metadata": {},
   "source": [
    "Prompt to enter employee details: PF number, Name, NHIF No, NSSF No and Salary"
   ]
  },
  {
   "cell_type": "code",
   "execution_count": 3,
   "id": "prerequisite-beginning",
   "metadata": {},
   "outputs": [
    {
     "name": "stdin",
     "output_type": "stream",
     "text": [
      "Enter the employee PF number: 1234\n",
      "Enter the employee Name: John\n",
      "Enter the employee NHIF number: 2345\n",
      "Enter the employee NSSF number: 3456\n",
      "Enter the employee Salary: 75000\n"
     ]
    },
    {
     "name": "stdout",
     "output_type": "stream",
     "text": [
      "John's gross_salary is 82500 Kshs \n",
      "\n"
     ]
    },
    {
     "name": "stdin",
     "output_type": "stream",
     "text": [
      "Enter the employee PF number: 9090\n",
      "Enter the employee Name: Shan\n",
      "Enter the employee NHIF number: 3486\n",
      "Enter the employee NSSF number: 2903\n",
      "Enter the employee Salary: 200000\n"
     ]
    },
    {
     "name": "stdout",
     "output_type": "stream",
     "text": [
      "Shan's gross_salary is 241666 Kshs \n",
      "\n"
     ]
    },
    {
     "name": "stdin",
     "output_type": "stream",
     "text": [
      "Enter the employee PF number: 7940\n",
      "Enter the employee Name: Comfort\n",
      "Enter the employee NHIF number: 2543\n",
      "Enter the employee NSSF number: 1893\n",
      "Enter the employee Salary: 200000\n"
     ]
    },
    {
     "name": "stdout",
     "output_type": "stream",
     "text": [
      "Comfort's gross_salary is 241666 Kshs \n",
      "\n"
     ]
    },
    {
     "name": "stdin",
     "output_type": "stream",
     "text": [
      "Enter the employee PF number: 1938\n",
      "Enter the employee Name: Yinka\n",
      "Enter the employee NHIF number: 2639\n",
      "Enter the employee NSSF number: 2093\n",
      "Enter the employee Salary: 75000\n"
     ]
    },
    {
     "name": "stdout",
     "output_type": "stream",
     "text": [
      "Yinka's gross_salary is 82500 Kshs \n",
      "\n"
     ]
    }
   ],
   "source": [
    "#for loop using number of employees as control. This makes sure the salary is calculated for each employee\n",
    "for a in range(num_employees): \n",
    "    \n",
    "    #put employee detail identifiers in a list to enable looping for the employee details\n",
    "    details_id = [\"PF number\", \"Name\", \"NHIF number\", \"NSSF number\", \"Salary\"]\n",
    "    \n",
    "    #copy identifier list to a details list which will be used in the loop \n",
    "    details_list = details_id[:]\n",
    "    \n",
    "    for i in range(len(details_list)):\n",
    "        #assign user inputed value to each list item\n",
    "        details_list[i] = input(\"Enter the employee \" + details_list[i] + \":\")\n",
    "    \n",
    "    #Call gross salary\n",
    "    gross_salary = f_gross_salary(details_list, details_id) \n",
    "    \n",
    "    #print employee name and gross salary\n",
    "    print(\"%s's gross_salary is %d Kshs \\n\" %(details_list[1], gross_salary)) "
   ]
  },
  {
   "cell_type": "markdown",
   "id": "outside-rhythm",
   "metadata": {},
   "source": [
    "f_gross_salary to compute gross salary for each employee. It taskes two lists holding the details and details identifier of each employee respectively"
   ]
  },
  {
   "cell_type": "code",
   "execution_count": 4,
   "id": "spiritual-studio",
   "metadata": {},
   "outputs": [],
   "source": [
    "def f_gross_salary(f_details_list, f_details_id):\n",
    "    #intialise the gross salary variable\n",
    "    gross_salary = 0\n",
    "    #intialise a dictionary to contain the details. Actually unnecessary\n",
    "    dict_details = {\n",
    "    }\n",
    "    for i in range(len(f_details_list)):\n",
    "        dict_details[f_details_id[i]] = f_details_list[i]\n",
    "    \n",
    "    #declare variables to calculate salary\n",
    "    #company profit\n",
    "    comp_profit = 25000000\n",
    "    #monthly manager bonus. Divide annual bonus(2% of profit) by 12\n",
    "    manage_bonus = 0.02 * comp_profit / 12\n",
    "    #monthly clerk overtime. 10% of monthly salary\n",
    "    clerk_overtime = 0.1 * 75000\n",
    "    \n",
    "    #calculate gross salary based on specified conditions in question. If salary is 200000, bonus is manage_bonus\n",
    "    if (int(dict_details['Salary']) == 200000):\n",
    "        gross_salary = int(dict_details['Salary']) + manage_bonus\n",
    "    else :\n",
    "        gross_salary = int(dict_details['Salary']) + clerk_overtime\n",
    "    \n",
    "    return gross_salary\n",
    "    \n"
   ]
  },
  {
   "cell_type": "code",
   "execution_count": null,
   "id": "assisted-piece",
   "metadata": {},
   "outputs": [],
   "source": []
  },
  {
   "cell_type": "code",
   "execution_count": null,
   "id": "substantial-generic",
   "metadata": {},
   "outputs": [],
   "source": []
  }
 ],
 "metadata": {
  "kernelspec": {
   "display_name": "Python 3",
   "language": "python",
   "name": "python3"
  },
  "language_info": {
   "codemirror_mode": {
    "name": "ipython",
    "version": 3
   },
   "file_extension": ".py",
   "mimetype": "text/x-python",
   "name": "python",
   "nbconvert_exporter": "python",
   "pygments_lexer": "ipython3",
   "version": "3.9.1"
  }
 },
 "nbformat": 4,
 "nbformat_minor": 5
}
