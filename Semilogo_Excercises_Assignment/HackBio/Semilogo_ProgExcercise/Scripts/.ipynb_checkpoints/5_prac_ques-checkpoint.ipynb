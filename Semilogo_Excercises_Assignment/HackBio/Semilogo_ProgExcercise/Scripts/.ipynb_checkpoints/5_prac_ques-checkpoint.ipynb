{
 "cells": [
  {
   "cell_type": "markdown",
   "id": "special-associate",
   "metadata": {},
   "source": [
    "# Script to determine if three sticks may or may not be arranged in a triangle"
   ]
  },
  {
   "cell_type": "markdown",
   "id": "swiss-glasgow",
   "metadata": {},
   "source": [
    "**The sum of the longest side and any other side will always be greater than the third side. Thus, the test can be simplified to checking if the longest side is greater than the sum of the other sides"
   ]
  },
  {
   "cell_type": "markdown",
   "id": "attractive-theta",
   "metadata": {},
   "source": [
    "Receive inputs on the length of the triangles."
   ]
  },
  {
   "cell_type": "code",
   "execution_count": 22,
   "id": "collect-blond",
   "metadata": {},
   "outputs": [
    {
     "name": "stdin",
     "output_type": "stream",
     "text": [
      "Enter the length of the first side 4\n",
      "Enter the length of the second side 5\n",
      "Enter the length of the third side 10\n"
     ]
    },
    {
     "name": "stdout",
     "output_type": "stream",
     "text": [
      "No\n"
     ]
    }
   ],
   "source": [
    "side_one = float(input(\"Enter the length of the first side\"))\n",
    "side_two = float(input(\"Enter the length of the second side\"))\n",
    "side_three = float(input(\"Enter the length of the third side\"))\n",
    "\n",
    "print(is_triangle(side_one, side_two, side_three))"
   ]
  },
  {
   "cell_type": "markdown",
   "id": "latest-maine",
   "metadata": {},
   "source": [
    "is_triangle() tests if the sides can make a triangle and returns 'True\" or \"False\""
   ]
  },
  {
   "cell_type": "code",
   "execution_count": 23,
   "id": "clear-arnold",
   "metadata": {},
   "outputs": [],
   "source": [
    "def is_triangle(f_side_1, f_side_2, f_side_3):\n",
    "    \n",
    "    #put arguements in a list and find  the index of the longest side\n",
    "    val_list = [f_side_1, f_side_2, f_side_3]\n",
    "    longest_side = max(val_list)\n",
    "    val_list.remove(longest_side)\n",
    "    \n",
    "    if longest_side > sum(val_list):\n",
    "        return \"No\"\n",
    "    else:\n",
    "        return \"Yes\"\n",
    "    "
   ]
  },
  {
   "cell_type": "code",
   "execution_count": null,
   "id": "settled-rescue",
   "metadata": {},
   "outputs": [],
   "source": []
  },
  {
   "cell_type": "code",
   "execution_count": null,
   "id": "becoming-divide",
   "metadata": {},
   "outputs": [],
   "source": []
  },
  {
   "cell_type": "code",
   "execution_count": null,
   "id": "catholic-temperature",
   "metadata": {},
   "outputs": [],
   "source": []
  },
  {
   "cell_type": "code",
   "execution_count": null,
   "id": "quality-lloyd",
   "metadata": {},
   "outputs": [],
   "source": []
  },
  {
   "cell_type": "code",
   "execution_count": null,
   "id": "bearing-diamond",
   "metadata": {},
   "outputs": [],
   "source": []
  },
  {
   "cell_type": "code",
   "execution_count": null,
   "id": "turkish-tolerance",
   "metadata": {},
   "outputs": [],
   "source": []
  },
  {
   "cell_type": "code",
   "execution_count": null,
   "id": "reserved-chuck",
   "metadata": {},
   "outputs": [],
   "source": []
  },
  {
   "cell_type": "code",
   "execution_count": null,
   "id": "announced-barrel",
   "metadata": {},
   "outputs": [],
   "source": []
  },
  {
   "cell_type": "code",
   "execution_count": null,
   "id": "young-chase",
   "metadata": {},
   "outputs": [],
   "source": []
  },
  {
   "cell_type": "code",
   "execution_count": null,
   "id": "imperial-baltimore",
   "metadata": {},
   "outputs": [],
   "source": []
  }
 ],
 "metadata": {
  "kernelspec": {
   "display_name": "Python 3",
   "language": "python",
   "name": "python3"
  },
  "language_info": {
   "codemirror_mode": {
    "name": "ipython",
    "version": 3
   },
   "file_extension": ".py",
   "mimetype": "text/x-python",
   "name": "python",
   "nbconvert_exporter": "python",
   "pygments_lexer": "ipython3",
   "version": "3.9.1"
  }
 },
 "nbformat": 4,
 "nbformat_minor": 5
}
