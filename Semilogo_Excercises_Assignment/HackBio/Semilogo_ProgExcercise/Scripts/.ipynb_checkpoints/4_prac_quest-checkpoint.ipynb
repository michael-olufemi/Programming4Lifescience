{
 "cells": [
  {
   "cell_type": "markdown",
   "id": "sunset-fitting",
   "metadata": {},
   "source": [
    "# Script that builds a dictionary describing a music album"
   ]
  },
  {
   "cell_type": "markdown",
   "id": "affected-obligation",
   "metadata": {},
   "source": [
    "Seek input for album title and artist name"
   ]
  },
  {
   "cell_type": "code",
   "execution_count": 12,
   "id": "opponent-preview",
   "metadata": {},
   "outputs": [
    {
     "name": "stdin",
     "output_type": "stream",
     "text": [
      "Enter the artist name a\n",
      "Enter the album title s\n"
     ]
    },
    {
     "name": "stdout",
     "output_type": "stream",
     "text": [
      "{'Artist Name': 'a', 'Album Title': 's'}\n"
     ]
    },
    {
     "name": "stdin",
     "output_type": "stream",
     "text": [
      "Enter the artist name d\n",
      "Enter the album title f\n"
     ]
    },
    {
     "name": "stdout",
     "output_type": "stream",
     "text": [
      "{'Artist Name': 'd', 'Album Title': 'f'}\n"
     ]
    },
    {
     "name": "stdin",
     "output_type": "stream",
     "text": [
      "Enter the artist name g\n",
      "Enter the album title h\n"
     ]
    },
    {
     "name": "stdout",
     "output_type": "stream",
     "text": [
      "{'Artist Name': 'g', 'Album Title': 'h'}\n"
     ]
    },
    {
     "name": "stdin",
     "output_type": "stream",
     "text": [
      "Enter the artist name j\n",
      "Enter the album title k\n",
      "Enter the number of tracks in the album 18\n"
     ]
    },
    {
     "name": "stdout",
     "output_type": "stream",
     "text": [
      "{'Artist Name': 'j', 'Album Title': 'k', 'Track Number': 18}\n"
     ]
    }
   ],
   "source": [
    "#Initialize variable to keep number of tracks as zero\n",
    "track_num = 0\n",
    "\n",
    "for i in range(4):\n",
    "    a_name = input(\"Enter the artist name\")\n",
    "    a_title = input(\"Enter the album title\")\n",
    "    \n",
    "    #Ask for input of track number is last request\n",
    "    if(i == 3):\n",
    "        track_num = int(input(\"Enter the number of tracks in the album\"))\n",
    "    \n",
    "    #Print output\n",
    "    print(make_album(a_name, a_title, track_num))\n"
   ]
  },
  {
   "cell_type": "markdown",
   "id": "systematic-delicious",
   "metadata": {},
   "source": [
    "album dictionary building function"
   ]
  },
  {
   "cell_type": "code",
   "execution_count": 13,
   "id": "extensive-closure",
   "metadata": {},
   "outputs": [],
   "source": [
    "def make_album(f_a_name, f_a_title, f_track_num = 0):\n",
    "    album = {\"Artist Name\":f_a_name,\"Album Title\":f_a_title}\n",
    "\n",
    "    #Only add number of tracks if a number greater than zero has been passed\n",
    "    if f_track_num > 0:\n",
    "        album['Number of Tracks']=f_track_num\n",
    "    \n",
    "    return album"
   ]
  },
  {
   "cell_type": "code",
   "execution_count": null,
   "id": "piano-shock",
   "metadata": {},
   "outputs": [],
   "source": []
  },
  {
   "cell_type": "code",
   "execution_count": null,
   "id": "noticed-finger",
   "metadata": {},
   "outputs": [],
   "source": []
  },
  {
   "cell_type": "code",
   "execution_count": null,
   "id": "turned-celebrity",
   "metadata": {},
   "outputs": [],
   "source": []
  },
  {
   "cell_type": "code",
   "execution_count": null,
   "id": "established-premises",
   "metadata": {},
   "outputs": [],
   "source": []
  },
  {
   "cell_type": "code",
   "execution_count": null,
   "id": "narrative-fields",
   "metadata": {},
   "outputs": [],
   "source": []
  },
  {
   "cell_type": "code",
   "execution_count": null,
   "id": "technological-manner",
   "metadata": {},
   "outputs": [],
   "source": []
  }
 ],
 "metadata": {
  "kernelspec": {
   "display_name": "Python 3",
   "language": "python",
   "name": "python3"
  },
  "language_info": {
   "codemirror_mode": {
    "name": "ipython",
    "version": 3
   },
   "file_extension": ".py",
   "mimetype": "text/x-python",
   "name": "python",
   "nbconvert_exporter": "python",
   "pygments_lexer": "ipython3",
   "version": "3.9.1"
  }
 },
 "nbformat": 4,
 "nbformat_minor": 5
}
